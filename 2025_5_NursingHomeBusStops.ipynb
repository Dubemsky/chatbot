{
  "nbformat": 4,
  "nbformat_minor": 0,
  "metadata": {
    "colab": {
      "provenance": [],
      "toc_visible": true
    },
    "kernelspec": {
      "name": "python3",
      "display_name": "Python 3"
    },
    "language_info": {
      "name": "python"
    }
  },
  "cells": [
    {
      "cell_type": "markdown",
      "source": [
        "# CMPU 4048 Environmental Analytics\n",
        "Dr. Bianca Schoen-Phelan\n",
        "\n",
        "Lab 5: Spatial Analysis\n",
        "\n",
        "This lab is for upload!\n",
        "\n",
        "**Checklist for submission:**\n",
        "- Complete all cells that are identified by the word Task and a number.\n",
        "- Download your solution in .ipynb format, and\n",
        "- Download your solution in .py format, and\n",
        "- zip both together in a file called ```C12345_EA.zip```, where C12345 is replaced by your student ID.\n",
        "\n",
        "## **Objective**\n",
        "This lab checks your ability to perform **core spatial analysis tasks**.\n",
        "You will:\n",
        "1. **Download and explore spatial data** for Dublin city.\n",
        "2. **Perform spatial joins** to link urban features with administrative districts.\n",
        "3. **Analyse accessibility** by measuring distances between key services.\n",
        "4. **Visualise spatial patterns** with maps.\n",
        "\n",
        "## **Context**\n",
        "This lab will analyse **bus stop accessibility to nursing homes**. It will answer:\n",
        "- How well are nursing homes served by public transport?\n",
        "- Which neighbourhoods have the best/worst accessibility?\n",
        "\n",
        "## **Files**\n",
        "Upload the provided electoral divisions file provided in brightspace. Alternatively, you can change the code here and mount your google drive instead."
      ],
      "metadata": {
        "id": "KcDVs9StXn1U"
      }
    },
    {
      "cell_type": "code",
      "source": [
        "!pip install osmnx"
      ],
      "metadata": {
        "id": "y6gDXGxWluVB"
      },
      "execution_count": null,
      "outputs": []
    },
    {
      "cell_type": "code",
      "source": [
        "import geopandas as gpd\n",
        "import pandas as pd\n",
        "import matplotlib.pyplot as plt\n",
        "import osmnx as ox\n",
        "from shapely.geometry import Point"
      ],
      "metadata": {
        "id": "JYoSz-hbl3s7"
      },
      "execution_count": null,
      "outputs": []
    },
    {
      "cell_type": "code",
      "source": [
        "# --------------------\n",
        "# **1. Downloading Data**\n",
        "# --------------------\n",
        "print(\"Downloading city boundary...\")\n",
        "city = ox.geocode_to_gdf(\"Dublin, Ireland\")\n",
        "city = city.to_crs(epsg=2157)  # Use local CRS for accurate distance calculations\n",
        "\n",
        "print(\"Downloading bus stops...\")\n",
        "bus_stops = ox.features_from_place(\"Dublin, Ireland\", tags={\"highway\": \"bus_stop\"})\n",
        "bus_stops = bus_stops.to_crs(epsg=2157)\n",
        "\n",
        "print(\"Downloading nursing homes...\")\n",
        "nursing_homes = ox.features_from_place(\"Dublin, Ireland\", tags={\"amenity\": \"nursing_home\"})\n",
        "nursing_homes = nursing_homes.to_crs(epsg=2157)\n",
        "\n"
      ],
      "metadata": {
        "id": "BdK-s1BamBm4"
      },
      "execution_count": null,
      "outputs": []
    },
    {
      "cell_type": "code",
      "source": [
        "# Check the types of geometries in nursing_homes\n",
        "print(\"Unique geometry types in nursing_homes dataset:\", nursing_homes.geometry.type.unique())"
      ],
      "metadata": {
        "id": "toNZ3aeno48D"
      },
      "execution_count": null,
      "outputs": []
    },
    {
      "cell_type": "markdown",
      "source": [
        "This is something that we need to fix. Many spatial operators are not happy to see mixed geometries in one DataFrame. In this case we will reduce the Polygon down to a point, as we are not interested in the specific shape of a nursing home. We will use the centre of mass of a polygon to convert the Polygon into a Point."
      ],
      "metadata": {
        "id": "G1BVFPQl8bvL"
      }
    },
    {
      "cell_type": "code",
      "source": [
        "nursing_homes.shape"
      ],
      "metadata": {
        "id": "IBPmguS-pM1N"
      },
      "execution_count": null,
      "outputs": []
    },
    {
      "cell_type": "code",
      "source": [
        "# Convert Polygons to their centroids\n",
        "nursing_homes[\"geometry\"] = nursing_homes.geometry.centroid"
      ],
      "metadata": {
        "id": "9QL9tjIspOgR"
      },
      "execution_count": null,
      "outputs": []
    },
    {
      "cell_type": "code",
      "source": [
        "print(\"Unique geometry types in nursing_homes dataset:\", nursing_homes.geometry.type.unique())"
      ],
      "metadata": {
        "id": "tKYn75sBqLbG"
      },
      "execution_count": null,
      "outputs": []
    },
    {
      "cell_type": "code",
      "source": [
        "# Check the types of geometries in bus_stops\n",
        "print(\"Unique geometry types in bus_stops dataset:\", bus_stops.geometry.type.unique())"
      ],
      "metadata": {
        "id": "QCrTWd8fpnXC"
      },
      "execution_count": null,
      "outputs": []
    },
    {
      "cell_type": "code",
      "source": [
        "# Checking that we haven't lost or added anything\n",
        "nursing_homes.shape"
      ],
      "metadata": {
        "id": "qJzH0hvkbHjo"
      },
      "execution_count": null,
      "outputs": []
    },
    {
      "cell_type": "code",
      "source": [
        "# load Electoral Divisions from GeoJSON**\n",
        "\n",
        "print(\"Loading Electoral Divisions from GeoJSON...\")\n",
        "original_districts = gpd.read_file(\"electoral-divisions-dublin.geojson\")\n",
        "\n",
        "# Ensure CRS is correct (transform to EPSG:2157 for Dublin)\n",
        "original_districts = original_districts.to_crs(epsg=2157)\n",
        "\n",
        "# Display summary\n",
        "print(f\"Total Electoral Divisions Retrieved: {len(original_districts)}\")\n",
        "original_districts.head()\n"
      ],
      "metadata": {
        "id": "ieqXNhVL4WmM"
      },
      "execution_count": null,
      "outputs": []
    },
    {
      "cell_type": "code",
      "source": [
        "original_districts.shape"
      ],
      "metadata": {
        "id": "sKkY93i34peI"
      },
      "execution_count": null,
      "outputs": []
    },
    {
      "cell_type": "code",
      "source": [
        "original_districts.columns"
      ],
      "metadata": {
        "id": "cwiFkXcT4rKA"
      },
      "execution_count": null,
      "outputs": []
    },
    {
      "cell_type": "code",
      "source": [
        "original_districts.plot()"
      ],
      "metadata": {
        "id": "n1C0jqzUWZN8"
      },
      "execution_count": null,
      "outputs": []
    },
    {
      "cell_type": "markdown",
      "source": [
        "It looks like there are many polygons describing electoral districts. Let's look for duplicates and count."
      ],
      "metadata": {
        "id": "1yV1mQ5wa8tA"
      }
    },
    {
      "cell_type": "code",
      "source": [
        "# Count occurrences of each district before dissolving\n",
        "district_counts = original_districts[\"Lcl_E_A\"].value_counts()\n",
        "\n",
        "# Print the unique district names and their counts\n",
        "print(\"Unique District Names and Their Counts:\\n\")\n",
        "print(district_counts)\n",
        "\n",
        "# Print the total number of unique district names\n",
        "print(f\"\\nTotal Unique Districts: {len(district_counts)}\")\n"
      ],
      "metadata": {
        "id": "By9pccoiX6iu"
      },
      "execution_count": null,
      "outputs": []
    },
    {
      "cell_type": "markdown",
      "source": [
        "We only need the name and the geometry."
      ],
      "metadata": {
        "id": "ZU1m1ihl5XjR"
      }
    },
    {
      "cell_type": "code",
      "source": [
        "# Keep only the name and geometry columns, rename name column\n",
        "districts = original_districts[[\"Lcl_E_A\", \"geometry\"]]\n",
        "districts = districts.rename(columns={\"Lcl_E_A\": \"district_name\"})"
      ],
      "metadata": {
        "id": "RQcikAw65Zb5"
      },
      "execution_count": null,
      "outputs": []
    },
    {
      "cell_type": "code",
      "source": [
        "districts"
      ],
      "metadata": {
        "id": "lKAOLVzt5yTh"
      },
      "execution_count": null,
      "outputs": []
    },
    {
      "cell_type": "code",
      "source": [
        "districts.plot()"
      ],
      "metadata": {
        "id": "24rUWPbdWe_V"
      },
      "execution_count": null,
      "outputs": []
    },
    {
      "cell_type": "markdown",
      "source": [
        "Before dissolving the geometry. Let's do some checks so that we won't run into any issues later."
      ],
      "metadata": {
        "id": "3cE_awNdbTLT"
      }
    },
    {
      "cell_type": "code",
      "source": [
        "# Check for unique geometry types\n",
        "print(\"Unique geometry types in districts dataset:\", districts.geometry.type.unique())"
      ],
      "metadata": {
        "id": "s4xF1FIp6AUZ"
      },
      "execution_count": null,
      "outputs": []
    },
    {
      "cell_type": "markdown",
      "source": [
        "Good. We see just one type of geometry. That makes things easier."
      ],
      "metadata": {
        "id": "VpFw64nqbhk1"
      }
    },
    {
      "cell_type": "code",
      "source": [
        "# Check 1: Check for missing geometries\n",
        "missing_geometry_count = districts.geometry.isnull().sum()\n",
        "print(f\"Number of missing geometries: {missing_geometry_count}\")"
      ],
      "metadata": {
        "id": "qsBZ3Y0Mbo02"
      },
      "execution_count": null,
      "outputs": []
    },
    {
      "cell_type": "code",
      "source": [
        "# Check 2: Check for invalid geometries\n",
        "invalid_geometries = districts[~districts.is_valid]\n",
        "print(f\"Number of invalid geometries: {len(invalid_geometries)}\")\n",
        "if not invalid_geometries.empty:\n",
        "    print(\"Invalid districts:\")\n",
        "    print(invalid_geometries[[\"district_name\", \"geometry\"]])"
      ],
      "metadata": {
        "id": "LpM6doAubrTX"
      },
      "execution_count": null,
      "outputs": []
    },
    {
      "cell_type": "code",
      "source": [
        "# Check 3: Ensure Every Polygon Belongs to a Known District\n",
        "# Extract expected district names from the dataset\n",
        "expected_districts = set(districts[\"district_name\"].unique())\n",
        "# Find unexpected district names\n",
        "unexpected_districts = set(districts[\"district_name\"].unique()) - expected_districts\n",
        "\n",
        "print(f\"Unexpected district names found: {unexpected_districts}\")"
      ],
      "metadata": {
        "id": "u2bFf33sbxT1"
      },
      "execution_count": null,
      "outputs": []
    },
    {
      "cell_type": "code",
      "source": [
        "# Check 4: Check for missing or blank district names\n",
        "unnamed_polygons = districts[districts[\"district_name\"].isna() | (districts[\"district_name\"].str.strip() == \"\")]\n",
        "\n",
        "# Print how many unnamed polygons exist\n",
        "print(f\"Warning: {len(unnamed_polygons)} polygons have no district name!\")\n",
        "\n",
        "# If any exist, visualize them\n",
        "if not unnamed_polygons.empty:\n",
        "    fig, ax = plt.subplots(figsize=(10, 6))\n",
        "    districts.plot(ax=ax, color=\"lightgrey\", edgecolor=\"black\", alpha=0.5)\n",
        "    unnamed_polygons.plot(ax=ax, color=\"red\", edgecolor=\"black\", alpha=0.7, label=\"Unnamed Polygons\")\n",
        "    plt.legend()\n",
        "    plt.title(\"Polygons Without a District Name (Before Dissolve)\")\n",
        "    plt.show()\n"
      ],
      "metadata": {
        "id": "feAJ4telY4qD"
      },
      "execution_count": null,
      "outputs": []
    },
    {
      "cell_type": "code",
      "source": [
        "from shapely.ops import unary_union\n",
        "\n",
        "def find_disconnected_areas(df):\n",
        "    disconnected_districts = {}\n",
        "\n",
        "    for district_name in df[\"district_name\"].unique():\n",
        "        # Extract all geometries of a district\n",
        "        district_geoms = unary_union(df[df[\"district_name\"] == district_name].geometry)\n",
        "\n",
        "        # Check if the district consists of multiple disjoint parts\n",
        "        if district_geoms.geom_type == \"MultiPolygon\":\n",
        "            # Further check if the polygons are truly disconnected\n",
        "            unique_parts = list(district_geoms.geoms)\n",
        "            disconnected_count = 0\n",
        "\n",
        "            for i, part in enumerate(unique_parts):\n",
        "                if not any(part.touches(other) for j, other in enumerate(unique_parts) if i != j):\n",
        "                    disconnected_count += 1  # Count as disconnected\n",
        "\n",
        "            if disconnected_count > 1:\n",
        "                disconnected_districts[district_name] = disconnected_count\n",
        "\n",
        "    return disconnected_districts\n",
        "\n",
        "# Run the check\n",
        "disconnected_areas = find_disconnected_areas(districts)\n",
        "\n",
        "# Print results\n",
        "if disconnected_areas:\n",
        "    print(\"⚠️ Districts with truly disconnected regions before dissolving:\")\n",
        "    for district, count in disconnected_areas.items():\n",
        "        print(f\"- {district}: {count} separate disconnected parts\")\n",
        "else:\n",
        "    print(\"✅ No truly disconnected areas detected before dissolving.\")\n"
      ],
      "metadata": {
        "id": "2sjk9iRTgZJF"
      },
      "execution_count": null,
      "outputs": []
    },
    {
      "cell_type": "markdown",
      "source": [
        "Very good. We have checked for all we could to make sure that we have a \"clean\" dataset.\n",
        "\n",
        "This is very important before a dissolve operation. If any of these had thrown an output, we would have had to fix that first. The dissolve would have still worked but we would have caused strange effects in spatial operations we run later, or worse, **produced wrong facts based on a flawed investigation!**"
      ],
      "metadata": {
        "id": "zaOWxREQkPgu"
      }
    },
    {
      "cell_type": "code",
      "source": [
        "# Dissolve polygons by district name to merge divisions correctly\n",
        "dissolved_districts = districts.dissolve(by=\"district_name\").reset_index()\n",
        "\n",
        "# Display summary\n",
        "print(f\"Total Electoral Divisions Retrieved: {len(dissolved_districts)}\")\n",
        "dissolved_districts"
      ],
      "metadata": {
        "id": "mM8gq7gs5ImC"
      },
      "execution_count": null,
      "outputs": []
    },
    {
      "cell_type": "markdown",
      "source": [
        "We see that the dissolve process has produced a Multipolygon for \"Artane-Whitehall\". To be save, we will convert the multipolygon into bounds of the largest polygon."
      ],
      "metadata": {
        "id": "aeIig5Jucosc"
      }
    },
    {
      "cell_type": "code",
      "source": [
        "dissolved_districts.plot()"
      ],
      "metadata": {
        "id": "faGuWVhQW7iG"
      },
      "execution_count": null,
      "outputs": []
    },
    {
      "cell_type": "code",
      "source": [
        "fig, ax = plt.subplots(figsize=(12, 8))  # Adjust figure size as needed\n",
        "\n",
        "dissolved_districts.plot(ax=ax, color=\"lightgrey\", edgecolor=\"black\", alpha=0.5)\n",
        "\n",
        "# Add district names as labels\n",
        "for idx, row in dissolved_districts.iterrows():\n",
        "    centroid = row.geometry.centroid\n",
        "    ax.text(centroid.x, centroid.y, row[\"district_name\"], fontsize=8, ha='center', color='black')\n",
        "\n",
        "plt.title(\"Electoral Divisions of Dublin with Labels\")\n",
        "plt.show()"
      ],
      "metadata": {
        "id": "0gBZE9TtXMXk"
      },
      "execution_count": null,
      "outputs": []
    },
    {
      "cell_type": "markdown",
      "source": [
        "You see that Ballymount Strand in Raheny/Clontarf doesn't have any names on them. You could highlight the polygons to make sure that the island's areas belong to a valid district."
      ],
      "metadata": {
        "id": "82vIXkOH7Jwk"
      }
    },
    {
      "cell_type": "code",
      "source": [
        "import matplotlib.pyplot as plt\n",
        "\n",
        "fig, ax = plt.subplots(figsize=(12, 8))  # Adjust figure size as needed\n",
        "\n",
        "# Plot all districts in light grey\n",
        "dissolved_districts.plot(ax=ax, color=\"lightgrey\", edgecolor=\"black\", alpha=0.5)\n",
        "\n",
        "# Highlight Donaghmede in purple\n",
        "dissolved_districts[dissolved_districts[\"district_name\"] == \"Donaghmede\"].plot(\n",
        "    ax=ax, color=\"purple\", edgecolor=\"black\", alpha=0.7, label=\"Donaghmede\"\n",
        ")\n",
        "\n",
        "# Highlight Clontarf in green\n",
        "dissolved_districts[dissolved_districts[\"district_name\"] == \"Clontarf\"].plot(\n",
        "    ax=ax, color=\"green\", edgecolor=\"black\", alpha=0.7, label=\"Clontarf\"\n",
        ")\n",
        "\n",
        "# Add district names as labels\n",
        "for idx, row in dissolved_districts.iterrows():\n",
        "    centroid = row.geometry.centroid\n",
        "    ax.text(centroid.x, centroid.y, row[\"district_name\"], fontsize=8, ha=\"center\", color=\"black\")\n",
        "\n",
        "plt.title(\"Electoral Divisions of Dublin with Donaghmede Highlighted\")\n",
        "plt.legend()\n",
        "plt.show()\n"
      ],
      "metadata": {
        "id": "X26lfT_67ojU"
      },
      "execution_count": null,
      "outputs": []
    },
    {
      "cell_type": "markdown",
      "source": [
        "We see that the island is divided but belongs to administrative units Clontarf and Donaghmede respectively.\n",
        "\n",
        "Historically, electoral units are being moved and change names. A map is a represenation of fact of a specific point in time. This map is for 2022."
      ],
      "metadata": {
        "id": "uaTzTtmv70JS"
      }
    },
    {
      "cell_type": "markdown",
      "source": [
        "# **2. Data Exploration**\n",
        "\n"
      ],
      "metadata": {
        "id": "_r3cmocumPiI"
      }
    },
    {
      "cell_type": "code",
      "source": [
        "city.plot()"
      ],
      "metadata": {
        "id": "PJxCNRT_nRat"
      },
      "execution_count": null,
      "outputs": []
    },
    {
      "cell_type": "code",
      "source": [
        "bus_stops.plot()"
      ],
      "metadata": {
        "id": "KoWTm0lhnW2Q"
      },
      "execution_count": null,
      "outputs": []
    },
    {
      "cell_type": "code",
      "source": [
        "nursing_homes.plot()"
      ],
      "metadata": {
        "id": "bzuUIQzGnY0a"
      },
      "execution_count": null,
      "outputs": []
    },
    {
      "cell_type": "code",
      "source": [
        "dissolved_districts.plot()"
      ],
      "metadata": {
        "id": "nqdTvJE3ndKJ"
      },
      "execution_count": null,
      "outputs": []
    },
    {
      "cell_type": "markdown",
      "source": [
        "# Task 1\n",
        "\n",
        "As part of Exploratory Spatial Data Analysis, perform a KDE on the distribution of nursing homes across Dublin City.\n",
        "\n",
        "**Steps:**\n",
        "1. Extract x and y coordinates from the ```nursing_homes``` dataframe.\n",
        "2. Create the [```sns.kdeplot()```](https://seaborn.pydata.org/generated/seaborn.kdeplot.html) using these x and y values.\n",
        "3. Use the city dataframe as a backdrop.\n",
        "4. Also visualise the original nursing_home dataframe in this plot.\n",
        "5. Use appropriate legend and title."
      ],
      "metadata": {
        "id": "GEleff89BOiA"
      }
    },
    {
      "cell_type": "code",
      "source": [
        "import seaborn as sns"
      ],
      "metadata": {
        "id": "qyt8kc-Oqwj2"
      },
      "execution_count": null,
      "outputs": []
    },
    {
      "cell_type": "code",
      "source": [
        "# your code starts here:"
      ],
      "metadata": {
        "id": "7QGWk6pAB-0Z"
      },
      "execution_count": null,
      "outputs": []
    },
    {
      "cell_type": "markdown",
      "source": [
        "# **3. Spatial Analysis Tasks**"
      ],
      "metadata": {
        "id": "BIfPET0mmVIw"
      }
    },
    {
      "cell_type": "markdown",
      "source": [
        "## **Task 2: Assigning Nursing Homes to Districts**\n",
        "\n",
        "Using a spatial join, determine how many nursing homes exist in each administrative district.\n",
        "\n",
        "**Steps:**\n",
        "1. Perform the spatial join. Remember about the purpose of reindexing after a join operation. You can use [```.size()```](https://pandas.pydata.org/docs/reference/api/pandas.core.groupby.DataFrameGroupBy.size.html#pandas.core.groupby.DataFrameGroupBy.size) to count rows in each district group. [```reindex(dissolved_districts[\"district_name\"], fill_value=0)``` ](https://pandas.pydata.org/docs/reference/api/pandas.DataFrame.reindex.html) will show districts even if they have 0 counts.\n",
        "2. Verify that no geometries went missing during the join by checking that there are no geometry entries of the new dataframe that are null. Also verify that when it shows your count, your join hasn't produced more nursing homes. We have 22 nursing homes.\n",
        "3. Check the shape and entries in your new dataframe.\n",
        "4. Make sure that there is a value for every one of the 11 electoral divisions. Your output should look similar to:\n",
        "```\n",
        "Nursing Homes per District:\n",
        "district_name\n",
        "Artane-Whitehall         2\n",
        "Ballyfermot-Drimnagh     2\n",
        "Ballymun-Finglas         4\n",
        "Cabra-Glasnevin          3\n",
        "Clontarf                 2\n",
        "Donaghmede               3\n",
        "Kimmage-Rathmines        0\n",
        "North Inner City         1\n",
        "Pembroke                 4\n",
        "South East Inner City    1\n",
        "South West Inner City    0\n",
        "```\n"
      ],
      "metadata": {
        "id": "d_s1H6_smX2K"
      }
    },
    {
      "cell_type": "code",
      "source": [
        "# your code starts here"
      ],
      "metadata": {
        "id": "GOYpkO89CIEF"
      },
      "execution_count": null,
      "outputs": []
    },
    {
      "cell_type": "markdown",
      "source": [
        "That's good. Although there are some names missing, all geometries are there. Although this is not always the case, for this investigation we are going to assume that the nursing home still exists (as there is a geometry for it), and that the dataset is just missing the name. This is an assumption that would have to be verified!"
      ],
      "metadata": {
        "id": "1MvbDUvp7al_"
      }
    },
    {
      "cell_type": "markdown",
      "source": [
        "## **Task 3: Identifying Nursing Homes Lacking Nearby Bus Stops**\n",
        "A nursing home is considered **poorly served** if the nearest bus stop is **more than 300m away**.\n",
        "\n",
        "**Steps:**\n",
        "1. Create a function called ```find_nearest(point, other_points)``` that uses the [```distance(...)```](https://geopandas.org/en/stable/docs/reference/api/geopandas.GeoSeries.distance.html) function to calculate the distance between a specific point and a geometry column. The return value of this function should come from ```.idxmin()```, applied to the outcome of distance, which finds the index of the nearest bus stop (i.e., the one with the smallest distance).\n",
        "2. Create a two new columns in your ```nursing_homes``` dataframe. One called ```nearest_bus_stops``` and one called ```distance_to_bus_stop```. Using .apply() and lambda if you find them helpful (or just a regular loop) to fill these columns. To do that use your new function called ```find_nearest``` to populate ```nearest_bus_stops``` and use ```row: row.geometry.distance(bus_stops.loc[row[\"nearest_bus_stop\"], \"geometry\"]), axis=1)``` to populate ```distance_to_bus_stop``` with apply and lambda (or just a regular loop).\n",
        "3. Then you can identify poorly served nursing homes by checking for nursinghomes, where the ```distance_to_bus_stop``` is larger than 300 metres. Your result should find 2 nursing homes."
      ],
      "metadata": {
        "id": "RKxeV3mzmuWe"
      }
    },
    {
      "cell_type": "code",
      "source": [
        "# your code starts here"
      ],
      "metadata": {
        "id": "vN50wju9M29E"
      },
      "execution_count": null,
      "outputs": []
    },
    {
      "cell_type": "markdown",
      "source": [
        "## **Task 4: Visualising Results**\n",
        "\n",
        "Plot your poorly served nursing homes. Try to recreate something that looks similar to the following image:\n",
        "\n",
        "![poorly_served.png](data:image/png;base64,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)\n",
        "\n"
      ],
      "metadata": {
        "id": "gK2CrV96m2Vq"
      }
    },
    {
      "cell_type": "markdown",
      "source": [
        "We see that one of the poorly served nursing homes is also missing a name - that was our problem from earlier."
      ],
      "metadata": {
        "id": "97ufD4Ew-YRt"
      }
    },
    {
      "cell_type": "markdown",
      "source": [
        "## Task 5: Does it exist?\n",
        "\n",
        "Using some investigative abilities (use google and google maps), do you think nan is valid for one of the poorly served nursing homes? If so, remove it. If not, re-assign the name value.\n",
        "\n",
        "**Hint:** CRS matter! And what element is your longitude and which one is your latitude?"
      ],
      "metadata": {
        "id": "eROfEJew_l1d"
      }
    },
    {
      "cell_type": "code",
      "source": [
        "# your code starts here"
      ],
      "metadata": {
        "id": "OmrHm6ak_2_u"
      },
      "execution_count": null,
      "outputs": []
    },
    {
      "cell_type": "markdown",
      "source": [
        "# This Analysis' Highlights\n",
        "\n",
        "- The distribution of nursing homes across administrative districts.\n",
        "- The extent to which nursing homes are served by public transportation.\n",
        "- Potential gaps in transport planning where accessibility can be improved."
      ],
      "metadata": {
        "id": "ZD9Jw-o6nIOn"
      }
    },
    {
      "cell_type": "markdown",
      "source": [
        "## Task 6: Voronoi\n",
        "\n",
        "Create a voronoi diagram. Your input points are all nursing homes.\n",
        "\n",
        "**Steps:**\n",
        "1. Convert your nursing home into a numpy array using ```np.array(list(zip(nursing_homes.geometry.x, nursing_homes.geometry.y)))``` and assign this to a variable.\n",
        "2. Use this numpy array as input to the [```Voronoi(...)```](https://docs.scipy.org/doc/scipy/reference/generated/scipy.spatial.Voronoi.html) function.\n",
        "3. Plot the voronoi over the your dissolved districts using [```voronoi_plot_2d```](https://docs.scipy.org/doc/scipy/reference/generated/scipy.spatial.voronoi_plot_2d.html).\n",
        "4. Also show all nursing home points in this visualisation."
      ],
      "metadata": {
        "id": "bJbsQMsTOOqH"
      }
    },
    {
      "cell_type": "code",
      "source": [
        "import numpy as np  # Import the numpy library and alias it as 'np'\n",
        "from scipy.spatial import Voronoi, voronoi_plot_2d # Import Voronoi and voronoi_plot_2d\n"
      ],
      "metadata": {
        "id": "yv-COwkpA0Eg"
      },
      "execution_count": null,
      "outputs": []
    },
    {
      "cell_type": "code",
      "source": [
        "# your code starts here"
      ],
      "metadata": {
        "id": "So_VyD9FPcSa"
      },
      "execution_count": null,
      "outputs": []
    },
    {
      "cell_type": "markdown",
      "source": [
        "## Understanding the Lack of Overlap Between Voronoi Cells and Districts\n",
        "\n",
        "The Voronoi cells represent areas closest to a given nursing home, while the districts represent administrative boundaries. The lack of overlap suggests that nursing home accessibility does not align with administrative divisions.\n",
        "\n",
        "**Implications for Resourcing and Planning:**\n",
        "\n",
        "- 1️⃣ District-Based Resource Allocation May Not Reflect Real Accessibility Needs:\n",
        "Governments and policymakers typically allocate healthcare resources based on administrative districts.\n",
        "However, people do not necessarily use services within their district—they may travel across districts to access the nearest nursing home.\n",
        "Implication: Funding and staffing decisions based purely on district boundaries may not match actual service usage.\n",
        "\n",
        "- 2️⃣ Large Voronoi Cells Indicate Service Gaps, Regardless of District Boundaries:\n",
        "If a single Voronoi cell is large, that means a nursing home serves a disproportionately large area.\n",
        "However, if this cell spans multiple districts, the responsibility for care may be unclear.\n",
        "Implication: Some districts may appear well-resourced on paper but actually rely on facilities in neighboring districts.\n",
        "\n",
        "- 3️⃣ Districts With No Nursing Homes May Be Overlooked in Planning:\n",
        "Some districts may have no nursing homes at all, even if their population requires them.\n",
        "Since Voronoi analysis ignores district boundaries, it highlights where service coverage is actually lacking, rather than just looking at administrative allocations.\n",
        "Implication: If funding decisions are based on district-level data rather than actual accessibility, underserved areas might be missed.\n",
        "\n",
        "- 4️⃣ Public Transport and Infrastructure Planning Must Consider Actual Accessibility:\n",
        "If nursing homes do not align with district boundaries, then public transport routes should not either.\n",
        "Implication: Bus routes, walking paths, and accessibility planning should be based on Voronoi-based catchment areas, not just district-level transport planning."
      ],
      "metadata": {
        "id": "ueXrllbFABxF"
      }
    },
    {
      "cell_type": "code",
      "source": [],
      "metadata": {
        "id": "T2AvrrDzAdgt"
      },
      "execution_count": null,
      "outputs": []
    }
  ]
}